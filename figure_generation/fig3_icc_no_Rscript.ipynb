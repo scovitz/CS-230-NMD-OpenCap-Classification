{
 "cells": [
  {
   "cell_type": "code",
   "execution_count": null,
   "id": "626f5378-4d6e-4e54-8723-1b31d4acf6ef",
   "metadata": {},
   "outputs": [],
   "source": [
    "from pathlib import Path\n",
    "\n",
    "import pandas as pd\n",
    "from tqdm.auto import tqdm\n",
    "\n",
    "from utilsPlots import *\n"
   ]
  },
  {
   "cell_type": "code",
   "execution_count": null,
   "id": "da467346-477b-4107-9ba7-7f9f18f24f23",
   "metadata": {},
   "outputs": [],
   "source": [
    "datadir = Path('../../datadir')\n",
    "\n",
    "figdir = Path('./figs')\n",
    "figdir.mkdir(exist_ok=True, parents=True)\n"
   ]
  },
  {
   "cell_type": "code",
   "execution_count": null,
   "id": "15510240-1a47-460f-86e2-6725863844e2",
   "metadata": {},
   "outputs": [],
   "source": [
    "df_info = pd.read_csv(datadir / 'participant_info.csv')\n",
    "df_feat = pd.read_csv(datadir / 'video_features.csv')\n",
    "df_all = df_info.merge(df_feat, on=['ID', 'day'])\n"
   ]
  },
  {
   "cell_type": "code",
   "execution_count": null,
   "id": "5ee8ca44-f652-459b-8f79-0c3360b7c478",
   "metadata": {},
   "outputs": [],
   "source": [
    "df = df_all.copy()\n",
    "df = df[df.day.isin([118, 119])]\n",
    "df = df[df.duplicated(subset=['ID'], keep=False)]\n",
    "df = df.sort_values('day')\n",
    "N = df.ID.nunique()\n",
    "print(f'{N} test-retest participants')\n"
   ]
  },
  {
   "cell_type": "code",
   "execution_count": null,
   "id": "a15ba019-5531-4555-8ec2-6936fdd90324",
   "metadata": {},
   "outputs": [],
   "source": [
    "df_feat_key = pd.read_csv(datadir / 'feature_key.csv')\n",
    "feat_name_map = dict(zip(df_feat_key.feature_code, df_feat_key.name))\n",
    "feat_act_map = dict(zip(df_feat_key.feature_code, df_feat_key.activity_code))\n",
    "\n",
    "feat_color_map = {\n",
    "    'Run': '#117733',\n",
    "    'Walk': '#44AA99',\n",
    "    'TUG': '#332288',\n",
    "    '5xSTS': '#88CCEE',\n",
    "    'Brooke': '#D0AB41',\n",
    "    'ArmRoM': '#D0AB41',\n",
    "    'Curls': '#D0AB41',\n",
    "    'ToeStand': '#CC6677',\n",
    "    'Jump': '#882255',\n",
    "}\n"
   ]
  },
  {
   "cell_type": "code",
   "execution_count": null,
   "id": "1cbeaa82-4954-49e7-b634-31479a8fe025",
   "metadata": {},
   "outputs": [],
   "source": [
    "# load ICC values from pre-computed file\n",
    "df_icc = pd.read_csv('icc_results.csv')\n"
   ]
  },
  {
   "cell_type": "code",
   "execution_count": null,
   "id": "f6ff282f-211a-471d-9770-b591e1a7b6fa",
   "metadata": {},
   "outputs": [],
   "source": [
    "plt.figure(figsize=(8,7))\n",
    "\n",
    "yticks = []\n",
    "ytick_labels = []\n",
    "for i, row in df_icc.iterrows():\n",
    "    y = -i\n",
    "    color = feat_color_map.get(feat_act_map.get(row.feat, None), '#999999')\n",
    "    plt.errorbar(x=row['icc'], y=y,\n",
    "                 xerr=[[row['icc']-row['lbound']],\n",
    "                       [row['ubound']-row['icc']]],\n",
    "                 fmt='o', color=color,\n",
    "                 ms=5,\n",
    "                 lw=2, elinewidth=2,\n",
    "                 solid_capstyle='projecting', capsize=0, capthick=2)\n",
    "\n",
    "    plt.text(-0.65, y, feat_name_map.get(row.feat, row.feat),\n",
    "             va='center', ha='right',\n",
    "             c=color, weight='bold')    \n",
    "\n",
    "plt.xticks([0, 0.5, 0.75, 0.9, 1])\n",
    "plt.yticks([], [])\n",
    "sns.despine(left=True, bottom=True)\n",
    "plt.tight_layout()\n",
    "plt.savefig(figdir/'fig3_icc_supplement.pdf')\n",
    "plt.show()\n"
   ]
  }
 ],
 "metadata": {
  "kernelspec": {
   "display_name": "Python 3 (ipykernel)",
   "language": "python",
   "name": "python3"
  },
  "language_info": {
   "codemirror_mode": {
    "name": "ipython",
    "version": 3
   },
   "file_extension": ".py",
   "mimetype": "text/x-python",
   "name": "python",
   "nbconvert_exporter": "python",
   "pygments_lexer": "ipython3",
   "version": "3.10.15"
  }
 },
 "nbformat": 4,
 "nbformat_minor": 5
}
