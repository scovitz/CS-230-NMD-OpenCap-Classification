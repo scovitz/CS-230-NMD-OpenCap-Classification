{
 "cells": [
  {
   "cell_type": "code",
   "execution_count": 1,
   "id": "626f5378-4d6e-4e54-8723-1b31d4acf6ef",
   "metadata": {},
   "outputs": [],
   "source": [
    "from pathlib import Path\n",
    "\n",
    "import numpy as np\n",
    "import pandas as pd\n",
    "\n",
    "from scipy.stats import ks_2samp\n",
    "from scipy.stats import spearmanr\n",
    "\n",
    "from utilsPlots import *\n"
   ]
  },
  {
   "cell_type": "code",
   "execution_count": 8,
   "id": "3998e3c5-1500-44fd-8616-5d8c7d343596",
   "metadata": {},
   "outputs": [],
   "source": [
    "datadir = Path('../../datadir')\n",
    "\n",
    "figdir = Path('./figs')\n",
    "figdir.mkdir(exist_ok=True, parents=True)\n"
   ]
  },
  {
   "cell_type": "code",
   "execution_count": 9,
   "id": "15510240-1a47-460f-86e2-6725863844e2",
   "metadata": {},
   "outputs": [],
   "source": [
    "df_info = pd.read_csv(datadir / 'participant_info.csv')\n",
    "df_feat = pd.read_csv(datadir / 'video_features.csv')\n",
    "df_all = df_info.merge(df_feat, on=['ID', 'day'])\n"
   ]
  },
  {
   "cell_type": "code",
   "execution_count": 10,
   "id": "770cd402-f772-4cbd-bc79-d13bb5440ed7",
   "metadata": {},
   "outputs": [
    {
     "name": "stdout",
     "output_type": "stream",
     "text": [
      "*\tp=0.02672 Brooke=4\n",
      "*\tp=0.03885 Brooke=5\n",
      "\tp=0.26482 Brooke=6\n"
     ]
    },
    {
     "data": {
      "image/png": "[encoded data removed]",
      "text/plain": [
       "<Figure size 360x288 with 1 Axes>"
      ]
     },
     "metadata": {},
     "output_type": "display_data"
    }
   ],
   "source": [
    "feat = 'brooke_max_sa_ea_ratio'\n",
    "\n",
    "df = df_all[df_all.brooke_score >= 4].copy()\n",
    "df['brooke_group'] = df.brooke_score.apply(lambda x : f'{int(x)}')\n",
    "\n",
    "plt.figure(figsize=(5,4))\n",
    "sns.boxplot(df, x='brooke_group', y=feat, hue='type', dodge=True, gap=0.3, width=0.8,\n",
    "              hue_order=['FSHD', 'DM', 'TYP'], linewidth=1, whis=[0, 100],\n",
    "              order=['4', '5', '6'],\n",
    "              palette=['#808080']*3, saturation=1, fill=None,  legend=False)\n",
    "np.random.seed(0)\n",
    "sns.stripplot(df, x='brooke_group', y=feat, hue='type', dodge=True, size=3,\n",
    "              hue_order=['FSHD', 'DM', 'TYP'], jitter=0.15,\n",
    "              palette=[cp[3], cp[0], cp[1]], alpha=1)\n",
    "plt.yticks([0.2, 1.0, 1.8])\n",
    "plt.ylim(0.1, 1.8)\n",
    "\n",
    "\n",
    "pvals = []\n",
    "for group in ['4', '5', '6']:\n",
    "    df_temp = df[df.brooke_group == group]\n",
    "    df_temp = df_temp.dropna(subset=feat)\n",
    "\n",
    "    pval = ks_2samp(\n",
    "        df_temp[df_temp.type=='FSHD'][feat],\n",
    "        df_temp[df_temp.type=='DM'][feat],\n",
    "        alternative='greater',\n",
    "    ).pvalue\n",
    "    pvals.append(pval)\n",
    "\n",
    "\n",
    "for i, group in enumerate(['4', '5', '6']):\n",
    "    pval = pvals[i]\n",
    "    if pval < 0.001:\n",
    "        stars = '***'\n",
    "    elif pval < 0.01:\n",
    "        stars = '**'\n",
    "    elif pval < 0.05:\n",
    "        stars = '*'\n",
    "    else:\n",
    "        stars = ''\n",
    "    print(f'{stars}\\tp={pval:0.5f} Brooke={group}')\n",
    "\n",
    "    if stars:\n",
    "        y = df[df.brooke_group==group][feat].max() + 0.1\n",
    "        plt.plot([i-0.25, i], [y,y], c='k', lw=1)\n",
    "        plt.text(i-0.125, y, stars, ha='center', va='bottom')\n",
    "\n",
    "plt.tight_layout()\n",
    "plt.legend(loc='lower right', frameon=False, borderpad=0, borderaxespad=0)\n",
    "plt.savefig(figdir/'fig6_brooke.pdf')\n",
    "plt.show()\n"
   ]
  },
  {
   "cell_type": "code",
   "execution_count": 11,
   "id": "4a69b48a-5cd9-4bea-932e-7af60981bf0a",
   "metadata": {},
   "outputs": [
    {
     "name": "stdout",
     "output_type": "stream",
     "text": [
      "spearman r = 0.794757422538102 , p = 1.582248016292475e-36\n"
     ]
    }
   ],
   "source": [
    "res = spearmanr(df_all['brooke_max_sa_ea_ratio'], df_all['brooke_score'])\n",
    "print('spearman r =', res.statistic, ', p =', res.pvalue)\n"
   ]
  }
 ],
 "metadata": {
  "kernelspec": {
   "display_name": "Python 3 (ipykernel)",
   "language": "python",
   "name": "python3"
  },
  "language_info": {
   "codemirror_mode": {
    "name": "ipython",
    "version": 3
   },
   "file_extension": ".py",
   "mimetype": "text/x-python",
   "name": "python",
   "nbconvert_exporter": "python",
   "pygments_lexer": "ipython3",
   "version": "3.10.6"
  }
 },
 "nbformat": 4,
 "nbformat_minor": 5
}
