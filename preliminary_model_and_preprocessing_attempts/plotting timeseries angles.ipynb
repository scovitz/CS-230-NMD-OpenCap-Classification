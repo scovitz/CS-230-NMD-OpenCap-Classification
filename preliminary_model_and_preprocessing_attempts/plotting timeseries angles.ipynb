{
 "cells": [
  {
   "cell_type": "code",
   "execution_count": 49,
   "id": "0863b7d8",
   "metadata": {},
   "outputs": [],
   "source": [
    "import pandas as pd\n",
    "import numpy as np\n",
    "from pathlib import Path\n",
    "import matplotlib.pyplot as plt\n",
    "import math\n",
    "import subprocess\n",
    "from numpy.linalg import norm\n",
    "\n",
    "\n",
    "from tqdm.auto import tqdm\n",
    "\n",
    "import matplotlib.pyplot as plt\n",
    "import seaborn as sns\n",
    "\n",
    "import sklearn.metrics as skm\n",
    "from sklearn.linear_model import LinearRegression"
   ]
  },
  {
   "cell_type": "code",
   "execution_count": 50,
   "id": "1fb05648",
   "metadata": {},
   "outputs": [],
   "source": [
    "def read_mot(fpath):\n",
    "    with open(fpath, 'r') as f:\n",
    "        # count = 0\n",
    "        line = f.readline().strip()\n",
    "        # while line and line.strip() != 'endheader':\n",
    "        while line.lower() != 'endheader':\n",
    "            line = f.readline().strip()\n",
    "            # count += 1\n",
    "\n",
    "        # df = pd.read_csv(f, delimiter='\\t', header=0, skiprows=count-3)\n",
    "        df = pd.read_csv(f, delimiter='\\t', header=0)\n",
    "\n",
    "    return df\n",
    "\n",
    "\n"
   ]
  },
  {
   "cell_type": "code",
   "execution_count": 51,
   "id": "2e21c759",
   "metadata": {},
   "outputs": [],
   "source": [
    "def read_trc(fpath):\n",
    "    # read metadata in file header\n",
    "    df_meta = pd.read_csv(fpath, delimiter='\\t', header=0, skiprows=0, nrows=1)\n",
    "    meta = df_meta.iloc[0].to_dict()\n",
    "    fps = meta['DataRate']\n",
    "\n",
    "    # read marker location names\n",
    "    markers_df = pd.read_csv(fpath, delimiter='\\t', header=None, skiprows=2, nrows=1)\n",
    "    markers = markers_df.iloc[0].dropna().to_numpy()[2:]\n",
    "\n",
    "    # read marker XYZ locations\n",
    "    df = pd.read_csv(fpath, delimiter='\\t', header=0, skiprows=3)\n",
    "    df.rename(columns=dict(zip(df.columns[:2], ('n', 't'))), inplace=True)\n",
    "    df.dropna(how='all', axis=1, inplace=True)\n",
    "\n",
    "    N = df.shape[0]\n",
    "    M = len(markers)\n",
    "    xyz = df.iloc[:,2:].to_numpy().reshape((N, M, 3))\n",
    "    xyz[:,:,[0,1,2]] = xyz[:,:,[2,1,0]]\n",
    "\n",
    "    return fps, markers, xyz"
   ]
  },
  {
   "cell_type": "code",
   "execution_count": 74,
   "id": "064920c6",
   "metadata": {},
   "outputs": [],
   "source": [
    "root_dir = '/Users/scovitz/datadir/opencap_data'\n",
    "mot_df = read_mot(root_dir + \"/P007/407/toe_stand/toe_stand.mot\")\n",
    "fps, markers, xyz = read_trc(root_dir + \"/P006/0/jump/jump.trc\")"
   ]
  },
  {
   "cell_type": "code",
   "execution_count": 75,
   "id": "03dba5f8",
   "metadata": {},
   "outputs": [
    {
     "data": {
      "text/plain": [
       "60.0"
      ]
     },
     "execution_count": 75,
     "metadata": {},
     "output_type": "execute_result"
    }
   ],
   "source": [
    "fps"
   ]
  },
  {
   "cell_type": "code",
   "execution_count": 76,
   "id": "987b07eb",
   "metadata": {},
   "outputs": [],
   "source": [
    "def trc_arm_angles(xyz, markers):\n",
    "    \n",
    "    # get shoulder, elbow, and wrist markers\n",
    "    rs = xyz[:,np.argmax(markers=='r_shoulder_study'),:]\n",
    "    ls = xyz[:,np.argmax(markers=='L_shoulder_study'),:]\n",
    "    re = xyz[:,np.argmax(markers=='r_melbow_study'),:]\n",
    "    le = xyz[:,np.argmax(markers=='L_melbow_study'),:]\n",
    "    rw = xyz[:,np.argmax(markers=='r_mwrist_study'),:]\n",
    "    lw = xyz[:,np.argmax(markers=='L_mwrist_study'),:]\n",
    "\n",
    "    # gravity vector\n",
    "    grav = np.zeros_like(rs)\n",
    "    grav[:,1] = -1\n",
    "    \n",
    "    # print(rs, len(rs))\n",
    "    #print(rw.shape)\n",
    "    #print(rs.shape)\n",
    "\n",
    "\n",
    "    # shoulder and elbow angles\n",
    "    rsa = angle_between_all(re-rs, grav) * 180 / np.pi # to convert from radians to degrees, multiply by 180/pi\n",
    "    rea = angle_between_all(rw-re, re-rs) * 180 / np.pi\n",
    "    lsa = angle_between_all(le-ls, grav) * 180 / np.pi\n",
    "    lea = angle_between_all(lw-le, le-ls) * 180 / np.pi\n",
    "\n",
    "    return rsa, rea, lsa, lea"
   ]
  },
  {
   "cell_type": "code",
   "execution_count": 77,
   "id": "3535a5f8",
   "metadata": {},
   "outputs": [
    {
     "data": {
      "text/plain": [
       "Index(['time', 'pelvis_tilt', 'pelvis_list', 'pelvis_rotation', 'pelvis_tx',\n",
       "       'pelvis_ty', 'pelvis_tz', 'hip_flexion_r', 'hip_adduction_r',\n",
       "       'hip_rotation_r', 'knee_angle_r', 'knee_angle_r_beta', 'ankle_angle_r',\n",
       "       'subtalar_angle_r', 'mtp_angle_r', 'hip_flexion_l', 'hip_adduction_l',\n",
       "       'hip_rotation_l', 'knee_angle_l', 'knee_angle_l_beta', 'ankle_angle_l',\n",
       "       'subtalar_angle_l', 'mtp_angle_l', 'lumbar_extension', 'lumbar_bending',\n",
       "       'lumbar_rotation', 'arm_flex_r', 'arm_add_r', 'arm_rot_r',\n",
       "       'elbow_flex_r', 'pro_sup_r', 'arm_flex_l', 'arm_add_l', 'arm_rot_l',\n",
       "       'elbow_flex_l', 'pro_sup_l'],\n",
       "      dtype='object')"
      ]
     },
     "execution_count": 77,
     "metadata": {},
     "output_type": "execute_result"
    }
   ],
   "source": [
    "mot_df.columns"
   ]
  },
  {
   "cell_type": "code",
   "execution_count": 78,
   "id": "850010c6",
   "metadata": {},
   "outputs": [
    {
     "data": {
      "text/plain": [
       "<matplotlib.legend.Legend at 0x172fb8520>"
      ]
     },
     "execution_count": 78,
     "metadata": {},
     "output_type": "execute_result"
    },
    {
     "data": {
      "image/png": "[encoded data removed]",
      "text/plain": [
       "<Figure size 432x288 with 1 Axes>"
      ]
     },
     "metadata": {
      "needs_background": "light"
     },
     "output_type": "display_data"
    }
   ],
   "source": [
    "plt.plot(np.arange(len(mot_df['knee_angle_r'])), mot_df['knee_angle_r'], label='CTL knee flexion') \n",
    "#plt.plot(np.arange(len(fshd_mot_df['elbow_flex_r'])), fshd_mot_df['elbow_flex_r'], label='FSHD elbow flexion')\n",
    "plt.legend()"
   ]
  },
  {
   "cell_type": "code",
   "execution_count": null,
   "id": "3ed33b59",
   "metadata": {},
   "outputs": [],
   "source": [
    "for "
   ]
  }
 ],
 "metadata": {
  "kernelspec": {
   "display_name": "Python 3 (ipykernel)",
   "language": "python",
   "name": "python3"
  },
  "language_info": {
   "codemirror_mode": {
    "name": "ipython",
    "version": 3
   },
   "file_extension": ".py",
   "mimetype": "text/x-python",
   "name": "python",
   "nbconvert_exporter": "python",
   "pygments_lexer": "ipython3",
   "version": "3.9.12"
  }
 },
 "nbformat": 4,
 "nbformat_minor": 5
}
