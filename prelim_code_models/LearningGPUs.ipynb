{
 "cells": [
  {
   "cell_type": "code",
   "execution_count": 1,
   "id": "0388b00d-a4dc-406e-a5b4-7370a5efae4f",
   "metadata": {},
   "outputs": [
    {
     "name": "stdout",
     "output_type": "stream",
     "text": [
      "Available devices: [PhysicalDevice(name='/physical_device:CPU:0', device_type='CPU'), PhysicalDevice(name='/physical_device:GPU:0', device_type='GPU')]\n"
     ]
    }
   ],
   "source": [
    "import tensorflow as tf\n",
    "print(\"Available devices:\", tf.config.list_physical_devices())\n"
   ]
  },
  {
   "cell_type": "code",
   "execution_count": 2,
   "id": "0ac730e0-65e4-4a36-b3bc-d1a644ddae37",
   "metadata": {},
   "outputs": [
    {
     "name": "stdout",
     "output_type": "stream",
     "text": [
      "Is GPU available: [PhysicalDevice(name='/physical_device:GPU:0', device_type='GPU')]\n",
      "Result: tf.Tensor([5. 7. 9.], shape=(3,), dtype=float32)\n"
     ]
    },
    {
     "name": "stderr",
     "output_type": "stream",
     "text": [
      "2024-11-29 16:52:32.420271: I metal_plugin/src/device/metal_device.cc:1154] Metal device set to: Apple M4 Pro\n",
      "2024-11-29 16:52:32.420294: I metal_plugin/src/device/metal_device.cc:296] systemMemory: 48.00 GB\n",
      "2024-11-29 16:52:32.420298: I metal_plugin/src/device/metal_device.cc:313] maxCacheSize: 18.00 GB\n",
      "2024-11-29 16:52:32.420331: I tensorflow/core/common_runtime/pluggable_device/pluggable_device_factory.cc:305] Could not identify NUMA node of platform GPU ID 0, defaulting to 0. Your kernel may not have been built with NUMA support.\n",
      "2024-11-29 16:52:32.420339: I tensorflow/core/common_runtime/pluggable_device/pluggable_device_factory.cc:271] Created TensorFlow device (/job:localhost/replica:0/task:0/device:GPU:0 with 0 MB memory) -> physical PluggableDevice (device: 0, name: METAL, pci bus id: <undefined>)\n"
     ]
    }
   ],
   "source": [
    "import tensorflow as tf\n",
    "\n",
    "# Check GPU availability\n",
    "print(\"Is GPU available:\", tf.config.list_physical_devices('GPU'))\n",
    "\n",
    "# Simple TensorFlow computation to test\n",
    "with tf.device('/GPU:0'):\n",
    "    a = tf.constant([1.0, 2.0, 3.0])\n",
    "    b = tf.constant([4.0, 5.0, 6.0])\n",
    "    result = a + b\n",
    "    print(\"Result:\", result)\n"
   ]
  },
  {
   "cell_type": "code",
   "execution_count": 3,
   "id": "8220bfd1-acef-4537-9752-113b0dbc74ea",
   "metadata": {},
   "outputs": [
    {
     "name": "stdout",
     "output_type": "stream",
     "text": [
      "Matrix multiplication result: tf.Tensor(\n",
      "[[-3.5105759e+01 -7.3037552e+01 -6.9209099e+01 ... -4.9408108e+01\n",
      "  -2.8063578e+01  1.8648810e+02]\n",
      " [-9.4072418e+01 -8.9466179e+01 -6.1277115e+01 ... -2.1704536e+02\n",
      "   1.9599632e+02 -7.4192971e-01]\n",
      " [-1.3145932e+01  3.1350104e+02 -1.6003958e+02 ...  2.3898516e+01\n",
      "  -9.0297562e+01  2.1194963e-01]\n",
      " ...\n",
      " [-1.2163195e+01 -7.2708076e-01  1.7865128e+02 ...  2.1823681e+01\n",
      "  -7.8858459e+01  1.5708784e+02]\n",
      " [ 3.2431084e+01  6.8180031e+01 -1.8777891e+01 ... -1.9483902e+01\n",
      "  -5.6429958e+01 -8.8283684e+01]\n",
      " [ 2.9451077e+01 -1.7146710e+02 -2.1852160e+01 ...  1.6869816e+01\n",
      "  -7.4712837e+01  4.8941166e+01]], shape=(10000, 10000), dtype=float32)\n",
      "Time taken (s): 0.5832540988922119\n"
     ]
    }
   ],
   "source": [
    "import tensorflow as tf\n",
    "import time\n",
    "\n",
    "# Large matrix multiplication\n",
    "with tf.device('/GPU:0'):\n",
    "    start = time.time()\n",
    "    a = tf.random.normal([10000, 10000])\n",
    "    b = tf.random.normal([10000, 10000])\n",
    "    c = tf.matmul(a, b)\n",
    "    print(\"Matrix multiplication result:\", c)\n",
    "    print(\"Time taken (s):\", time.time() - start)\n"
   ]
  },
  {
   "cell_type": "code",
   "execution_count": 4,
   "id": "35c8fc33-285b-43ef-9829-19de9fa2cf9d",
   "metadata": {},
   "outputs": [
    {
     "name": "stdout",
     "output_type": "stream",
     "text": [
      "Matrix multiplication result: tf.Tensor(\n",
      "[[ -77.14511    118.30941     47.141327  ...  -44.05091     85.056595\n",
      "     9.875298 ]\n",
      " [  32.594387   -33.813595   121.2693    ...  -15.606556   126.811134\n",
      "    41.652855 ]\n",
      " [  37.02806     10.174755   -71.04915   ...  -22.59147    -18.465773\n",
      "  -129.16315  ]\n",
      " ...\n",
      " [ 102.680504   -59.684746    13.658905  ... -131.75647   -180.34067\n",
      "   108.818085 ]\n",
      " [ 123.96       -70.51979     59.93358   ...  -43.23475     41.283386\n",
      "    47.90332  ]\n",
      " [  17.737244    13.473427    10.657988  ...   99.271545     6.7223773\n",
      "   113.87754  ]], shape=(10000, 10000), dtype=float32)\n",
      "Time taken (s): 1.842047929763794\n"
     ]
    }
   ],
   "source": [
    "import tensorflow as tf\n",
    "import time\n",
    "\n",
    "# Large matrix multiplication\n",
    "with tf.device('/CPU:0'):\n",
    "    start = time.time()\n",
    "    a = tf.random.normal([10000, 10000])\n",
    "    b = tf.random.normal([10000, 10000])\n",
    "    c = tf.matmul(a, b)\n",
    "    print(\"Matrix multiplication result:\", c)\n",
    "    print(\"Time taken (s):\", time.time() - start)\n"
   ]
  },
  {
   "cell_type": "code",
   "execution_count": null,
   "id": "9107dd67-7b39-4b2a-9a45-8a71e6b86e45",
   "metadata": {},
   "outputs": [],
   "source": []
  }
 ],
 "metadata": {
  "kernelspec": {
   "display_name": "Python 3 (ipykernel)",
   "language": "python",
   "name": "python3"
  },
  "language_info": {
   "codemirror_mode": {
    "name": "ipython",
    "version": 3
   },
   "file_extension": ".py",
   "mimetype": "text/x-python",
   "name": "python",
   "nbconvert_exporter": "python",
   "pygments_lexer": "ipython3",
   "version": "3.10.15"
  }
 },
 "nbformat": 4,
 "nbformat_minor": 5
}
